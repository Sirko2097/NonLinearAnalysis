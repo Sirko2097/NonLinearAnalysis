{
 "cells": [
  {
   "cell_type": "code",
   "execution_count": 19,
   "metadata": {},
   "outputs": [],
   "source": [
    "from PIL import Image\n",
    "import time as t\n",
    "import random"
   ]
  },
  {
   "cell_type": "code",
   "execution_count": 48,
   "metadata": {},
   "outputs": [],
   "source": [
    "coefRealOfVariant = -0.211\n",
    "coefImaginaryOfVariant = 0.511"
   ]
  },
  {
   "cell_type": "code",
   "execution_count": 46,
   "metadata": {},
   "outputs": [],
   "source": [
    "def builder(fractal_type, amountOfIterations, power, coefReal=0, coefImaginary=0, width=900, height=900,\n",
    "            xBegin=-2, xEnd=2,\n",
    "            yBegin=-2, yEnd=2):\n",
    "\n",
    "    image = Image.new(\"RGB\", (width, height))\n",
    "\n",
    "    for x in range(width):\n",
    "        real = x * (xEnd - xBegin) / (width - 1) + xBegin\n",
    "        for y in range(height):\n",
    "            imaginary = y * (yEnd - yBegin) / (height - 1) + yBegin\n",
    "            z = complex(real, imaginary)\n",
    "            if fractal_type == 'mandelbrot':\n",
    "                c = z\n",
    "            elif fractal_type == 'julia':\n",
    "                c = complex(coefReal, coefImaginary)\n",
    "            for i in range(amountOfIterations):\n",
    "                if abs(z) > 2:\n",
    "                    break\n",
    "                z = z ** (power) + c\n",
    "            image.putpixel((x, y), (i * 1, i * 3, i * 5))\n",
    "   \n",
    "\n",
    "    fractal = image.show()"
   ]
  },
  {
   "cell_type": "code",
   "execution_count": 56,
   "metadata": {},
   "outputs": [],
   "source": [
    "builder('julia', 500, 2, coefRealOfVariant, coefImaginaryOfVariant)"
   ]
  },
  {
   "cell_type": "markdown",
   "metadata": {},
   "source": [
    "![title](julia_2_500_r=-0.211_i=0.511.bmp)"
   ]
  },
  {
   "cell_type": "code",
   "execution_count": 59,
   "metadata": {},
   "outputs": [],
   "source": [
    "builder('mandelbrot', 500, 2)"
   ]
  },
  {
   "cell_type": "markdown",
   "metadata": {},
   "source": [
    "![title](mandelbrot_2_500_r=0_i=0.bmp)"
   ]
  },
  {
   "cell_type": "code",
   "execution_count": 60,
   "metadata": {},
   "outputs": [],
   "source": [
    "builder('mandelbrot', 500, 3)"
   ]
  },
  {
   "cell_type": "markdown",
   "metadata": {},
   "source": [
    "![title](mandelbrot_3_500_r=0_i=0.bmp)"
   ]
  },
  {
   "cell_type": "code",
   "execution_count": 61,
   "metadata": {},
   "outputs": [],
   "source": [
    "builder('mandelbrot', 500, 4)"
   ]
  },
  {
   "cell_type": "markdown",
   "metadata": {},
   "source": [
    "![title](mandelbrot_4_500_r=0_i=0.bmp)"
   ]
  },
  {
   "cell_type": "code",
   "execution_count": 43,
   "metadata": {},
   "outputs": [],
   "source": [
    "builder('mandelbrot', 1000, 5)"
   ]
  },
  {
   "cell_type": "markdown",
   "metadata": {},
   "source": [
    "![title](mandelbrot_5_1000_r=0_i=0.bmp)"
   ]
  },
  {
   "cell_type": "code",
   "execution_count": 38,
   "metadata": {},
   "outputs": [],
   "source": [
    "builder('julia', 100, 2, random.random(), random.random())"
   ]
  },
  {
   "cell_type": "markdown",
   "metadata": {},
   "source": [
    "![title](julia_2_100_r=0.2802529476499087_i=0.6378045405823226.bmp)"
   ]
  },
  {
   "cell_type": "code",
   "execution_count": 26,
   "metadata": {},
   "outputs": [],
   "source": [
    "builder('julia', 1000, 5, 0, random.random())"
   ]
  },
  {
   "cell_type": "markdown",
   "metadata": {},
   "source": [
    "![title](julia_5_1000_r=0_i=0.5532926010746275.bmp)"
   ]
  },
  {
   "cell_type": "code",
   "execution_count": 30,
   "metadata": {},
   "outputs": [],
   "source": [
    "builder('julia', 1000, 10, random.random(), 0)"
   ]
  },
  {
   "cell_type": "markdown",
   "metadata": {},
   "source": [
    "![title](julia_10_1000_r=0.7318510232094975_i=0.bmp)"
   ]
  },
  {
   "cell_type": "code",
   "execution_count": 66,
   "metadata": {},
   "outputs": [],
   "source": [
    "builder('julia', 100, 5, coefRealOfVariant, 0)"
   ]
  }
 ],
 "metadata": {
  "kernelspec": {
   "display_name": "Python 3",
   "language": "python",
   "name": "python3"
  },
  "language_info": {
   "codemirror_mode": {
    "name": "ipython",
    "version": 3
   },
   "file_extension": ".py",
   "mimetype": "text/x-python",
   "name": "python",
   "nbconvert_exporter": "python",
   "pygments_lexer": "ipython3",
   "version": "3.7.0"
  }
 },
 "nbformat": 4,
 "nbformat_minor": 2
}
